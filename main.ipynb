{
 "cells": [
  {
   "cell_type": "code",
   "execution_count": 1,
   "metadata": {},
   "outputs": [
    {
     "name": "stderr",
     "output_type": "stream",
     "text": [
      "/home/msuleman/ml20_scratch/msul0021/miniconda/conda/envs/fyp_dinov2/lib/python3.10/site-packages/tqdm/auto.py:21: TqdmWarning: IProgress not found. Please update jupyter and ipywidgets. See https://ipywidgets.readthedocs.io/en/stable/user_install.html\n",
      "  from .autonotebook import tqdm as notebook_tqdm\n"
     ]
    }
   ],
   "source": [
    "from modules.dataset import SAMDataset\n",
    "from modules.model import SAM\n",
    "from modules.lora import fetch_lora_regex"
   ]
  },
  {
   "cell_type": "code",
   "execution_count": 9,
   "metadata": {},
   "outputs": [
    {
     "name": "stdout",
     "output_type": "stream",
     "text": [
      "loading annotations into memory...\n",
      "Done (t=0.02s)\n",
      "creating index...\n",
      "index created!\n"
     ]
    }
   ],
   "source": [
    "num_classes = 5\n",
    "image_size = 512\n",
    "vit_patch_size = 8\n",
    "pretrained_path = 'facebook/sam-vit-base'\n",
    "lora_layers = lora_rank = lora_alpha = None\n",
    "lora_regex, normal_layers = fetch_lora_regex(lora_layers)\n",
    "\n",
    "model = SAM(pretrained_path, \n",
    "            num_classes=num_classes, \n",
    "            image_size=image_size, \n",
    "            vit_patch_size=vit_patch_size, \n",
    "            lora_regex=lora_regex, \n",
    "            normal_regex=normal_layers, \n",
    "            lora_rank=lora_rank, \n",
    "            lora_alpha=lora_alpha)\n",
    "\n",
    "root, annFile = '../data/train', '../data/annotations/train.json'\n",
    "trainset = SAMDataset(root, annFile, image_size, means=[-1.8163, -1.9570, -1.7297], stds=[0.8139, 0.4834, 0.4621])"
   ]
  },
  {
   "cell_type": "code",
   "execution_count": null,
   "metadata": {},
   "outputs": [],
   "source": [
    "model.load('saves/test.ckpt')"
   ]
  },
  {
   "cell_type": "code",
   "execution_count": 69,
   "metadata": {},
   "outputs": [
    {
     "data": {
      "text/plain": [
       "<matplotlib.image.AxesImage at 0x7f4c24610df0>"
      ]
     },
     "execution_count": 69,
     "metadata": {},
     "output_type": "execute_result"
    },
    {
     "data": {
      "image/png": "[encoded data removed]",
      "text/plain": [
       "<Figure size 640x480 with 2 Axes>"
      ]
     },
     "metadata": {},
     "output_type": "display_data"
    }
   ],
   "source": [
    "import torch.nn.functional as F\n",
    "import matplotlib.pyplot as plt\n",
    "import numpy as np\n",
    "\n",
    "img, tgt = trainset[59]\n",
    "pred = model.forward(img.unsqueeze(0), tgt.shape[-2:])\n",
    "jack = pred\n",
    "pred = pred.argmax(dim=1)\n",
    "\n",
    "plt.subplot(1, 2, 1)\n",
    "plt.imshow(tgt, cmap='gray')\n",
    "plt.subplot(1, 2, 2)\n",
    "plt.imshow(pred.squeeze().detach().cpu(), cmap='gray')"
   ]
  },
  {
   "cell_type": "code",
   "execution_count": 74,
   "metadata": {},
   "outputs": [
    {
     "name": "stdout",
     "output_type": "stream",
     "text": [
      "tensor([0.9995, 0.0000, 0.0000, 0.0000, 0.0000])\n"
     ]
    }
   ],
   "source": [
    "from torchmetrics.functional import f1_score\n",
    "\n",
    "print(f1_score(pred.squeeze().detach().cpu(), tgt, task=\"multiclass\", num_classes=5, average='none'))"
   ]
  },
  {
   "cell_type": "code",
   "execution_count": 75,
   "metadata": {},
   "outputs": [
    {
     "data": {
      "text/plain": [
       "array([0, 1])"
      ]
     },
     "execution_count": 75,
     "metadata": {},
     "output_type": "execute_result"
    }
   ],
   "source": [
    "np.unique(pred.squeeze().detach().cpu())"
   ]
  },
  {
   "cell_type": "code",
   "execution_count": 76,
   "metadata": {},
   "outputs": [
    {
     "data": {
      "text/plain": [
       "array([0, 2])"
      ]
     },
     "execution_count": 76,
     "metadata": {},
     "output_type": "execute_result"
    }
   ],
   "source": [
    "np.unique(tgt)"
   ]
  },
  {
   "cell_type": "code",
   "execution_count": 77,
   "metadata": {},
   "outputs": [
    {
     "name": "stderr",
     "output_type": "stream",
     "text": [
      "/tmp/ipykernel_3889/849531063.py:1: UserWarning: Implicit dimension choice for softmax has been deprecated. Change the call to include dim=X as an argument.\n",
      "  sum(sum(sum(F.softmax(jack)[:, 0] > 0.5)))\n"
     ]
    },
    {
     "data": {
      "text/plain": [
       "tensor(201312, device='cuda:0')"
      ]
     },
     "execution_count": 77,
     "metadata": {},
     "output_type": "execute_result"
    }
   ],
   "source": [
    "sum(sum(sum(F.softmax(jack)[:, 0] > 0.5)))"
   ]
  },
  {
   "cell_type": "code",
   "execution_count": null,
   "metadata": {},
   "outputs": [],
   "source": []
  }
 ],
 "metadata": {
  "kernelspec": {
   "display_name": "Python 3 (ipykernel)",
   "language": "python",
   "name": "python3"
  },
  "language_info": {
   "codemirror_mode": {
    "name": "ipython",
    "version": 3
   },
   "file_extension": ".py",
   "mimetype": "text/x-python",
   "name": "python",
   "nbconvert_exporter": "python",
   "pygments_lexer": "ipython3",
   "version": "3.10.0"
  }
 },
 "nbformat": 4,
 "nbformat_minor": 4
}
